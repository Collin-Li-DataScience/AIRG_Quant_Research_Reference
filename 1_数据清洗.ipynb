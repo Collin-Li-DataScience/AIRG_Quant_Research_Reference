{
 "cells": [
  {
   "cell_type": "markdown",
   "metadata": {},
   "source": [
    "# Loading data"
   ]
  },
  {
   "cell_type": "code",
   "execution_count": 16,
   "metadata": {},
   "outputs": [],
   "source": [
    "import sys\n",
    "import pandas as pd\n",
    "import numpy as np\n",
    "df = pd.read_csv('./rpsdata_rfs.csv')"
   ]
  },
  {
   "cell_type": "code",
   "execution_count": 17,
   "metadata": {},
   "outputs": [
    {
     "data": {
      "text/html": [
       "<div>\n",
       "<style scoped>\n",
       "    .dataframe tbody tr th:only-of-type {\n",
       "        vertical-align: middle;\n",
       "    }\n",
       "\n",
       "    .dataframe tbody tr th {\n",
       "        vertical-align: top;\n",
       "    }\n",
       "\n",
       "    .dataframe thead th {\n",
       "        text-align: right;\n",
       "    }\n",
       "</style>\n",
       "<table border=\"1\" class=\"dataframe\">\n",
       "  <thead>\n",
       "    <tr style=\"text-align: right;\">\n",
       "      <th></th>\n",
       "      <th>absacc</th>\n",
       "      <th>acc</th>\n",
       "      <th>aeavol</th>\n",
       "      <th>age</th>\n",
       "      <th>agr</th>\n",
       "      <th>baspread</th>\n",
       "      <th>beta</th>\n",
       "      <th>betasq</th>\n",
       "      <th>bm</th>\n",
       "      <th>bm_ia</th>\n",
       "      <th>...</th>\n",
       "      <th>std_turn</th>\n",
       "      <th>stdacc</th>\n",
       "      <th>stdcf</th>\n",
       "      <th>tang</th>\n",
       "      <th>tb</th>\n",
       "      <th>turn</th>\n",
       "      <th>zerotrade</th>\n",
       "      <th>permno</th>\n",
       "      <th>DATE</th>\n",
       "      <th>RET</th>\n",
       "    </tr>\n",
       "  </thead>\n",
       "  <tbody>\n",
       "    <tr>\n",
       "      <th>0</th>\n",
       "      <td>0.113203</td>\n",
       "      <td>0.113203</td>\n",
       "      <td>1.001090</td>\n",
       "      <td>4</td>\n",
       "      <td>0.173800</td>\n",
       "      <td>0.014234</td>\n",
       "      <td>1.060413</td>\n",
       "      <td>1.124477</td>\n",
       "      <td>1.180962</td>\n",
       "      <td>0.005656</td>\n",
       "      <td>...</td>\n",
       "      <td>0.635898</td>\n",
       "      <td>0.061432</td>\n",
       "      <td>0.065363</td>\n",
       "      <td>0.545459</td>\n",
       "      <td>0.183120</td>\n",
       "      <td>0.319863</td>\n",
       "      <td>1.115306e-07</td>\n",
       "      <td>10006</td>\n",
       "      <td>19800131</td>\n",
       "      <td>0.211679</td>\n",
       "    </tr>\n",
       "    <tr>\n",
       "      <th>1</th>\n",
       "      <td>0.084369</td>\n",
       "      <td>0.084369</td>\n",
       "      <td>-0.613146</td>\n",
       "      <td>4</td>\n",
       "      <td>0.078283</td>\n",
       "      <td>0.022470</td>\n",
       "      <td>1.526010</td>\n",
       "      <td>2.328707</td>\n",
       "      <td>0.956692</td>\n",
       "      <td>-0.054946</td>\n",
       "      <td>...</td>\n",
       "      <td>2.546787</td>\n",
       "      <td>0.113289</td>\n",
       "      <td>0.111707</td>\n",
       "      <td>0.606464</td>\n",
       "      <td>0.448872</td>\n",
       "      <td>0.735121</td>\n",
       "      <td>6.199128e-08</td>\n",
       "      <td>10057</td>\n",
       "      <td>19800131</td>\n",
       "      <td>0.282297</td>\n",
       "    </tr>\n",
       "    <tr>\n",
       "      <th>2</th>\n",
       "      <td>NaN</td>\n",
       "      <td>NaN</td>\n",
       "      <td>NaN</td>\n",
       "      <td>1</td>\n",
       "      <td>NaN</td>\n",
       "      <td>0.511667</td>\n",
       "      <td>1.759512</td>\n",
       "      <td>3.095882</td>\n",
       "      <td>3.362003</td>\n",
       "      <td>1.759705</td>\n",
       "      <td>...</td>\n",
       "      <td>NaN</td>\n",
       "      <td>NaN</td>\n",
       "      <td>NaN</td>\n",
       "      <td>0.576991</td>\n",
       "      <td>-0.757447</td>\n",
       "      <td>NaN</td>\n",
       "      <td>NaN</td>\n",
       "      <td>10103</td>\n",
       "      <td>19800131</td>\n",
       "      <td>0.083333</td>\n",
       "    </tr>\n",
       "    <tr>\n",
       "      <th>3</th>\n",
       "      <td>0.025227</td>\n",
       "      <td>0.025227</td>\n",
       "      <td>-0.491307</td>\n",
       "      <td>4</td>\n",
       "      <td>0.126033</td>\n",
       "      <td>0.020899</td>\n",
       "      <td>0.492884</td>\n",
       "      <td>0.242935</td>\n",
       "      <td>1.330341</td>\n",
       "      <td>0.162172</td>\n",
       "      <td>...</td>\n",
       "      <td>0.740017</td>\n",
       "      <td>0.146767</td>\n",
       "      <td>0.146899</td>\n",
       "      <td>0.517196</td>\n",
       "      <td>NaN</td>\n",
       "      <td>0.313063</td>\n",
       "      <td>9.726790e-08</td>\n",
       "      <td>10137</td>\n",
       "      <td>19800131</td>\n",
       "      <td>-0.032258</td>\n",
       "    </tr>\n",
       "    <tr>\n",
       "      <th>4</th>\n",
       "      <td>0.076974</td>\n",
       "      <td>0.076974</td>\n",
       "      <td>-0.256932</td>\n",
       "      <td>4</td>\n",
       "      <td>0.123875</td>\n",
       "      <td>0.016947</td>\n",
       "      <td>1.139157</td>\n",
       "      <td>1.297678</td>\n",
       "      <td>1.579284</td>\n",
       "      <td>0.436193</td>\n",
       "      <td>...</td>\n",
       "      <td>0.657563</td>\n",
       "      <td>0.057448</td>\n",
       "      <td>0.067283</td>\n",
       "      <td>0.525973</td>\n",
       "      <td>1.776926</td>\n",
       "      <td>0.651567</td>\n",
       "      <td>6.190654e-08</td>\n",
       "      <td>10145</td>\n",
       "      <td>19800131</td>\n",
       "      <td>0.150127</td>\n",
       "    </tr>\n",
       "  </tbody>\n",
       "</table>\n",
       "<p>5 rows × 97 columns</p>\n",
       "</div>"
      ],
      "text/plain": [
       "     absacc       acc    aeavol  age       agr  baspread      beta    betasq  \\\n",
       "0  0.113203  0.113203  1.001090    4  0.173800  0.014234  1.060413  1.124477   \n",
       "1  0.084369  0.084369 -0.613146    4  0.078283  0.022470  1.526010  2.328707   \n",
       "2       NaN       NaN       NaN    1       NaN  0.511667  1.759512  3.095882   \n",
       "3  0.025227  0.025227 -0.491307    4  0.126033  0.020899  0.492884  0.242935   \n",
       "4  0.076974  0.076974 -0.256932    4  0.123875  0.016947  1.139157  1.297678   \n",
       "\n",
       "         bm     bm_ia  ...  std_turn    stdacc     stdcf      tang        tb  \\\n",
       "0  1.180962  0.005656  ...  0.635898  0.061432  0.065363  0.545459  0.183120   \n",
       "1  0.956692 -0.054946  ...  2.546787  0.113289  0.111707  0.606464  0.448872   \n",
       "2  3.362003  1.759705  ...       NaN       NaN       NaN  0.576991 -0.757447   \n",
       "3  1.330341  0.162172  ...  0.740017  0.146767  0.146899  0.517196       NaN   \n",
       "4  1.579284  0.436193  ...  0.657563  0.057448  0.067283  0.525973  1.776926   \n",
       "\n",
       "       turn     zerotrade  permno      DATE       RET  \n",
       "0  0.319863  1.115306e-07   10006  19800131  0.211679  \n",
       "1  0.735121  6.199128e-08   10057  19800131  0.282297  \n",
       "2       NaN           NaN   10103  19800131  0.083333  \n",
       "3  0.313063  9.726790e-08   10137  19800131 -0.032258  \n",
       "4  0.651567  6.190654e-08   10145  19800131  0.150127  \n",
       "\n",
       "[5 rows x 97 columns]"
      ]
     },
     "execution_count": 17,
     "metadata": {},
     "output_type": "execute_result"
    }
   ],
   "source": [
    "features = 'absacc acc aeavol age agr baspread beta betasq bm bm_ia cash cashdebt cashpr cfp cfp_ia chatoia chcsho chempia chinv chmom chpmia chtx cinvest convind currat depr divi divo dolvol dy ear egr ep gma grcapx grltnoa herf hire idiovol ill indmom invest lev lgr maxret mom12m mom1m mom36m mom6m ms mve mve_ia nincr operprof orgcap pchcapx_ia pchcurrat pchdepr pchgm_pchsale pchquick pchsale_pchinvt pchsale_pchrect pchsale_pchxsga pchsaleinv pctacc pricedelay ps quick rd rd_mve rd_sale realestate retvol roaq roavol roeq roic rsup salecash saleinv salerec secured securedind sgr sin sp std_dolvol std_turn stdacc stdcf tang tb turn zerotrade'\n",
    "keep94 = features.split(\" \")\n",
    "# add 'DATE' for grouping purposes\n",
    "keep94.extend(['permno', 'DATE', 'RET'])\n",
    "# create the same dataframe used in the paper\n",
    "df_94 = df[keep94]\n",
    "df_94.head()"
   ]
  },
  {
   "cell_type": "markdown",
   "metadata": {},
   "source": [
    "# Replace nan with cross-sectional median"
   ]
  },
  {
   "cell_type": "code",
   "execution_count": 18,
   "metadata": {},
   "outputs": [
    {
     "name": "stderr",
     "output_type": "stream",
     "text": [
      "/Library/Frameworks/Python.framework/Versions/3.7/lib/python3.7/site-packages/numpy/lib/nanfunctions.py:959: RuntimeWarning: All-NaN slice encountered\n",
      "  result = np.apply_along_axis(_nanmedian1d, axis, a, overwrite_input)\n"
     ]
    },
    {
     "name": "stdout",
     "output_type": "stream",
     "text": [
      "Factors to drop:\n",
      " {'orgcap', 'secured', 'realestate'}\n"
     ]
    }
   ],
   "source": [
    "# 数据清洗过程中发现，'orgcap', 'realestate', 'secured'\n",
    "# 这三个因子在某些月份全是空值（因此无中位数），故弃之。\n",
    "factors_to_drop = []\n",
    "df_94_by_date = df_94.groupby('DATE')\n",
    "for date, date_df in df_94_by_date:\n",
    "        for index, value in enumerate(date_df.median()):\n",
    "            if np.isnan(value):\n",
    "                # 寻找任何median是NaN的index lable\n",
    "                factors_to_drop.append(date_df.median().index[index])\n",
    "\n",
    "print(\"Factors to drop:\\n\", set(factors_to_drop))"
   ]
  },
  {
   "cell_type": "code",
   "execution_count": 19,
   "metadata": {},
   "outputs": [
    {
     "name": "stdout",
     "output_type": "stream",
     "text": [
      "secured: 41.23%\n",
      "orgcap: 27.96%\n",
      "realestate: 57.71%\n"
     ]
    }
   ],
   "source": [
    "# 查看这三个即将被drop的因子\"非NaN\"值的百分比\n",
    "for factor in ['secured', 'orgcap', 'realestate']:\n",
    "    print('{}: {:.2%}'.format(factor, (len(df_94[factor]) - df_94[factor].count()) / len(df_94[factor])))"
   ]
  },
  {
   "cell_type": "code",
   "execution_count": 20,
   "metadata": {},
   "outputs": [],
   "source": [
    "# Fill NaN with median\n",
    "def fill_NaN_with_Median(df):\n",
    "    return df.drop('DATE', 1).fillna(value=df.median())"
   ]
  },
  {
   "cell_type": "code",
   "execution_count": 21,
   "metadata": {},
   "outputs": [
    {
     "data": {
      "text/html": [
       "<div>\n",
       "<style scoped>\n",
       "    .dataframe tbody tr th:only-of-type {\n",
       "        vertical-align: middle;\n",
       "    }\n",
       "\n",
       "    .dataframe tbody tr th {\n",
       "        vertical-align: top;\n",
       "    }\n",
       "\n",
       "    .dataframe thead th {\n",
       "        text-align: right;\n",
       "    }\n",
       "</style>\n",
       "<table border=\"1\" class=\"dataframe\">\n",
       "  <thead>\n",
       "    <tr style=\"text-align: right;\">\n",
       "      <th></th>\n",
       "      <th>DATE</th>\n",
       "      <th>absacc</th>\n",
       "      <th>acc</th>\n",
       "      <th>aeavol</th>\n",
       "      <th>age</th>\n",
       "      <th>agr</th>\n",
       "      <th>baspread</th>\n",
       "      <th>beta</th>\n",
       "      <th>betasq</th>\n",
       "      <th>bm</th>\n",
       "      <th>...</th>\n",
       "      <th>std_dolvol</th>\n",
       "      <th>std_turn</th>\n",
       "      <th>stdacc</th>\n",
       "      <th>stdcf</th>\n",
       "      <th>tang</th>\n",
       "      <th>tb</th>\n",
       "      <th>turn</th>\n",
       "      <th>zerotrade</th>\n",
       "      <th>permno</th>\n",
       "      <th>RET</th>\n",
       "    </tr>\n",
       "  </thead>\n",
       "  <tbody>\n",
       "    <tr>\n",
       "      <th>0</th>\n",
       "      <td>19800131</td>\n",
       "      <td>0.113203</td>\n",
       "      <td>0.113203</td>\n",
       "      <td>1.001090</td>\n",
       "      <td>4</td>\n",
       "      <td>0.173800</td>\n",
       "      <td>0.014234</td>\n",
       "      <td>1.060413</td>\n",
       "      <td>1.124477</td>\n",
       "      <td>1.180962</td>\n",
       "      <td>...</td>\n",
       "      <td>0.881844</td>\n",
       "      <td>0.635898</td>\n",
       "      <td>0.061432</td>\n",
       "      <td>0.065363</td>\n",
       "      <td>0.545459</td>\n",
       "      <td>0.183120</td>\n",
       "      <td>0.319863</td>\n",
       "      <td>1.115306e-07</td>\n",
       "      <td>10006</td>\n",
       "      <td>0.211679</td>\n",
       "    </tr>\n",
       "    <tr>\n",
       "      <th>1</th>\n",
       "      <td>19800131</td>\n",
       "      <td>0.084369</td>\n",
       "      <td>0.084369</td>\n",
       "      <td>-0.613146</td>\n",
       "      <td>4</td>\n",
       "      <td>0.078283</td>\n",
       "      <td>0.022470</td>\n",
       "      <td>1.526010</td>\n",
       "      <td>2.328707</td>\n",
       "      <td>0.956692</td>\n",
       "      <td>...</td>\n",
       "      <td>1.368363</td>\n",
       "      <td>2.546787</td>\n",
       "      <td>0.113289</td>\n",
       "      <td>0.111707</td>\n",
       "      <td>0.606464</td>\n",
       "      <td>0.448872</td>\n",
       "      <td>0.735121</td>\n",
       "      <td>6.199128e-08</td>\n",
       "      <td>10057</td>\n",
       "      <td>0.282297</td>\n",
       "    </tr>\n",
       "    <tr>\n",
       "      <th>2</th>\n",
       "      <td>19800131</td>\n",
       "      <td>0.080049</td>\n",
       "      <td>0.076017</td>\n",
       "      <td>0.046328</td>\n",
       "      <td>1</td>\n",
       "      <td>0.136066</td>\n",
       "      <td>0.511667</td>\n",
       "      <td>1.759512</td>\n",
       "      <td>3.095882</td>\n",
       "      <td>3.362003</td>\n",
       "      <td>...</td>\n",
       "      <td>0.814880</td>\n",
       "      <td>1.074193</td>\n",
       "      <td>0.092334</td>\n",
       "      <td>0.094367</td>\n",
       "      <td>0.576991</td>\n",
       "      <td>-0.757447</td>\n",
       "      <td>0.256541</td>\n",
       "      <td>9.138374e-08</td>\n",
       "      <td>10103</td>\n",
       "      <td>0.083333</td>\n",
       "    </tr>\n",
       "    <tr>\n",
       "      <th>3</th>\n",
       "      <td>19800131</td>\n",
       "      <td>0.025227</td>\n",
       "      <td>0.025227</td>\n",
       "      <td>-0.491307</td>\n",
       "      <td>4</td>\n",
       "      <td>0.126033</td>\n",
       "      <td>0.020899</td>\n",
       "      <td>0.492884</td>\n",
       "      <td>0.242935</td>\n",
       "      <td>1.330341</td>\n",
       "      <td>...</td>\n",
       "      <td>0.553246</td>\n",
       "      <td>0.740017</td>\n",
       "      <td>0.146767</td>\n",
       "      <td>0.146899</td>\n",
       "      <td>0.517196</td>\n",
       "      <td>-0.005278</td>\n",
       "      <td>0.313063</td>\n",
       "      <td>9.726790e-08</td>\n",
       "      <td>10137</td>\n",
       "      <td>-0.032258</td>\n",
       "    </tr>\n",
       "    <tr>\n",
       "      <th>4</th>\n",
       "      <td>19800131</td>\n",
       "      <td>0.076974</td>\n",
       "      <td>0.076974</td>\n",
       "      <td>-0.256932</td>\n",
       "      <td>4</td>\n",
       "      <td>0.123875</td>\n",
       "      <td>0.016947</td>\n",
       "      <td>1.139157</td>\n",
       "      <td>1.297678</td>\n",
       "      <td>1.579284</td>\n",
       "      <td>...</td>\n",
       "      <td>0.427617</td>\n",
       "      <td>0.657563</td>\n",
       "      <td>0.057448</td>\n",
       "      <td>0.067283</td>\n",
       "      <td>0.525973</td>\n",
       "      <td>1.776926</td>\n",
       "      <td>0.651567</td>\n",
       "      <td>6.190654e-08</td>\n",
       "      <td>10145</td>\n",
       "      <td>0.150127</td>\n",
       "    </tr>\n",
       "  </tbody>\n",
       "</table>\n",
       "<p>5 rows × 94 columns</p>\n",
       "</div>"
      ],
      "text/plain": [
       "       DATE    absacc       acc    aeavol  age       agr  baspread      beta  \\\n",
       "0  19800131  0.113203  0.113203  1.001090    4  0.173800  0.014234  1.060413   \n",
       "1  19800131  0.084369  0.084369 -0.613146    4  0.078283  0.022470  1.526010   \n",
       "2  19800131  0.080049  0.076017  0.046328    1  0.136066  0.511667  1.759512   \n",
       "3  19800131  0.025227  0.025227 -0.491307    4  0.126033  0.020899  0.492884   \n",
       "4  19800131  0.076974  0.076974 -0.256932    4  0.123875  0.016947  1.139157   \n",
       "\n",
       "     betasq        bm  ...  std_dolvol  std_turn    stdacc     stdcf  \\\n",
       "0  1.124477  1.180962  ...    0.881844  0.635898  0.061432  0.065363   \n",
       "1  2.328707  0.956692  ...    1.368363  2.546787  0.113289  0.111707   \n",
       "2  3.095882  3.362003  ...    0.814880  1.074193  0.092334  0.094367   \n",
       "3  0.242935  1.330341  ...    0.553246  0.740017  0.146767  0.146899   \n",
       "4  1.297678  1.579284  ...    0.427617  0.657563  0.057448  0.067283   \n",
       "\n",
       "       tang        tb      turn     zerotrade  permno       RET  \n",
       "0  0.545459  0.183120  0.319863  1.115306e-07   10006  0.211679  \n",
       "1  0.606464  0.448872  0.735121  6.199128e-08   10057  0.282297  \n",
       "2  0.576991 -0.757447  0.256541  9.138374e-08   10103  0.083333  \n",
       "3  0.517196 -0.005278  0.313063  9.726790e-08   10137 -0.032258  \n",
       "4  0.525973  1.776926  0.651567  6.190654e-08   10145  0.150127  \n",
       "\n",
       "[5 rows x 94 columns]"
      ]
     },
     "execution_count": 21,
     "metadata": {},
     "output_type": "execute_result"
    }
   ],
   "source": [
    "# drop above factors\n",
    "df_91 = df_94.drop(['secured', 'orgcap', 'realestate'], axis=1)\n",
    "# group by 'DATE'\n",
    "df_91_by_date = df_91.groupby('DATE')\n",
    "# Fill NaN with median and return a multi-indexed dataframe\n",
    "df_fiiled = df_91_by_date.apply(fill_NaN_with_Median).reset_index(level='DATE')\n",
    "df_fiiled.head()"
   ]
  },
  {
   "cell_type": "code",
   "execution_count": 22,
   "metadata": {},
   "outputs": [],
   "source": [
    "def shift_stock(df_stock):\n",
    "\n",
    "    # the following block updates the calculation process\n",
    "    # num_stock = len(df['permno'].unique()) == 18700\n",
    "    global n\n",
    "    n += 1\n",
    "    b = (\"{:.2%}\".format(n / 18700))\n",
    "    sys.stdout.write('\\r' + b)\n",
    "    sys.stdout.flush()\n",
    "    \n",
    "    # shift based on freqency\n",
    "    for k, v in frequency.items():\n",
    "        if v == 'Annual':\n",
    "            df_stock[k] = df_stock[k].shift(6)\n",
    "        elif v == 'Quarterly':\n",
    "            df_stock[k] = df_stock[k].shift(4)\n",
    "        elif v == 'Monthly':\n",
    "            df_stock[k] = df_stock[k].shift(1)\n",
    "    return df_stock"
   ]
  },
  {
   "cell_type": "markdown",
   "metadata": {},
   "source": [
    "# Shift data based on frequency"
   ]
  },
  {
   "cell_type": "code",
   "execution_count": 23,
   "metadata": {},
   "outputs": [
    {
     "data": {
      "text/plain": [
       "91"
      ]
     },
     "execution_count": 23,
     "metadata": {},
     "output_type": "execute_result"
    }
   ],
   "source": [
    "table = \"\"\"1 absacc Absolute accruals Bandyopadhyay, Huang & Wirjanto 2010, WP Compustat Annual\n",
    "2 acc Working capital accruals Sloan 1996, TAR Compustat Annual\n",
    "3 aeavol Abnormal earnings announcement volume Lerman, Livnat & Mendenhall 2007, WP Compustat+CRSP Quarterly\n",
    "4 age # years since rst Compustat coverage Jiang, Lee & Zhang 2005, RAS Compustat Annual\n",
    "5 agr Asset growth Cooper, Gulen & Schill 2008, JF Compustat Annual\n",
    "6 baspread Bid-ask spread Amihud & Mendelson 1989, JF CRSP Monthly\n",
    "7 beta Beta Fama & MacBeth 1973, JPE CRSP Monthly\n",
    "8 betasq Beta squared Fama & MacBeth 1973, JPE CRSP Monthly\n",
    "9 bm Book-to-market Rosenberg, Reid & Lanstein 1985, JPM Compustat+CRSP Annual\n",
    "10 bm_ia Industry-adjusted book to market Asness, Porter & Stevens 2000, WP Compustat+CRSP Annual\n",
    "11 cash Cash holdings Palazzo 2012, JFE Compustat Quarterly\n",
    "12 cashdebt Cash ow to debt Ou & Penman 1989, JAE Compustat Annual\n",
    "13 cashpr Cash productivity Chandrashekar & Rao 2009, WP Compustat Annual\n",
    "14 cfp Cash ow to price ratio Desai, Rajgopal & Venkatachalam 2004, TAR Compustat Annual\n",
    "15 cfp_ia Industry-adjusted cash ow to price ratio Asness, Porter & Stevens 2000, WP Compustat Annual\n",
    "16 chatoia Industry-adjusted change in asset turnover Soliman 2008, TAR Compustat Annual\n",
    "17 chcsho Change in shares outstanding Ponti & Woodgate 2008, JF Compustat Annual\n",
    "18 chempia Industry-adjusted change in employees Asness, Porter & Stevens 1994, WP Compustat Annual\n",
    "19 chinv Change in inventory Thomas & Zhang 2002, RAS Compustat Annual\n",
    "20 chmom Change in 6-month momentum Gettleman & Marks 2006, WP CRSP Monthly\n",
    "21 chpmia Industry-adjusted change in prot margin Soliman 2008, TAR Compustat Annual\n",
    "22 chtx Change in tax expense Thomas & Zhang 2011, JAR Compustat Quarterly\n",
    "23 cinvest Corporate investment Titman, Wei & Xie 2004, JFQA Compustat Quarterly\n",
    "24 convind Convertible debt indicator Valta 2016, JFQA Compustat Annual\n",
    "25 currat Current ratio Ou & Penman 1989, JAE Compustat Annual\n",
    "26 depr Depreciation / PP&E Holthausen & Larcker 1992, JAE Compustat Annual\n",
    "27 divi Dividend initiation Michaely, Thaler & Womack 1995, JF Compustat Annual\n",
    "28 divo Dividend omission Michaely, Thaler & Womack 1995, JF Compustat Annual\n",
    "29 dolvol Dollar trading volume Chordia, Subrahmanyam & Anshuman 2001, JFE CRSP Monthly\n",
    "30 dy Dividend to price Litzenberger & Ramaswamy 1982, JF Compustat Annual\n",
    "31 ear Earnings announcement return Kishore, Brandt, Santa-Clara & Venkatachalam 2008, WP Compustat+CRSP Quarterly\n",
    "32 egr Growth in common shareholder equity Richardson, Sloan, Soliman & Tuna 2005, JAE Compustat Annual\n",
    "33 ep Earnings to price Basu 1977, JF Compustat Annual\n",
    "34 gma Gross protability Novy-Marx 2013, JFE Compustat Annual\n",
    "35 grcapx Growth in capital expenditures Anderson & Garcia-Feijoo 2006, JF Compustat Annual\n",
    "36 grltnoa Growth in long term net operating assets Faireld, Whisenant & Yohn 2003, TAR Compustat Annual\n",
    "37 herf Industry sales concentration Hou & Robinson 2006, JF Compustat Annual\n",
    "38 hire Employee growth rate Bazdresch, Belo & Lin 2014, JPE Compustat Annual\n",
    "39 idiovol Idiosyncratic return volatility Ali, Hwang & Trombley 2003, JFE CRSP Monthly\n",
    "40 ill Illiquidity Amihud 2002, JFM CRSP Monthly\n",
    "41 indmom Industry momentum Moskowitz & Grinblatt 1999, JF CRSP Monthly\n",
    "42 invest Capital expenditures and inventory Chen & Zhang 2010, JF Compustat Annual\n",
    "43 lev Leverage Bhandari 1988, JF Compustat Annual\n",
    "44 lgr Growth in long-term debt Richardson, Sloan, Soliman & Tuna 2005, JAE Compustat Annual\n",
    "45 maxret Maximum daily return Bali, Cakici & Whitelaw 2011, JFE CRSP Monthly\n",
    "46 mom12m 12-month momentum Jegadeesh 1990, JF CRSP Monthly\n",
    "47 mom1m 1-month momentum Jegadeesh & Titman 1993, JF CRSP Monthly\n",
    "48 mom36m 36-month momentum Jegadeesh & Titman 1993, JF CRSP Monthly\n",
    "49 mom6m 6-month momentum Jegadeesh & Titman 1993, JF CRSP Monthly\n",
    "50 ms Financial statement score Mohanram 2005, RAS Compustat Quarterly\n",
    "51 mve_ia Size Banz 1981, JFE CRSP Monthly\n",
    "52 mve ia Industry-adjusted size Asness, Porter & Stevens 2000, WP Compustat Annual\n",
    "53 nincr Number of earnings increases Barth, Elliott & Finn 1999, JAR Compustat Quarterly\n",
    "54 operprof Operating protability Fama & French 2015, JFE Compustat Annual\n",
    "55 orgcap Organizational capital Eisfeldt & Papanikolaou 2013, JF Compustat Annual\n",
    "56 pchcapx_ia Industry adjusted % change in capital expenditures Abarbanell & Bushee 1998, TAR Compustat Annual\n",
    "57 pchcurrat % change in current ratio Ou & Penman 1989, JAE Compustat Annual\n",
    "58 pchdepr % change in depreciation Holthausen & Larcker 1992, JAE Compustat Annual\n",
    "59 pchgm_pchsale % change in gross margin - % change in sales Abarbanell & Bushee 1998, TAR Compustat Annual\n",
    "60 pchquick % change in quick ratio Ou & Penman 1989, JAE Compustat Annual\n",
    "61 pchsale_pchinvt % change in sales - % change in inventory Abarbanell & Bushee 1998, TAR Compustat Annual\n",
    "62 pchsale_pchrect % change in sales - % change in A/R Abarbanell & Bushee 1998, TAR Compustat Annual\n",
    "63 pchsale_pchxsga % change in sales - % change in SG&A Abarbanell & Bushee 1998, TAR Compustat Annual\n",
    "64 pchsaleinv % change sales-to-inventory Ou & Penman 1989, JAE Compustat Annual\n",
    "65 pctacc Percent accruals Hafzalla, Lundholm & Van Winkle 2011, TAR Compustat Annual\n",
    "66 pricedelay Price delay Hou & Moskowitz 2005, RFS CRSP Monthly\n",
    "67 ps Financial statements score Piotroski 2000, JAR Compustat Annual\n",
    "68 quick Quick ratio Ou & Penman 1989, JAE Compustat Annual\n",
    "69 rd R&D increase Eberhart, Maxwell & Siddique 2004, JF Compustat Annual\n",
    "70 rd_mve R&D to market capitalization Guo, Lev & Shi 2006, JBFA Compustat Annual\n",
    "71 rd_sale R&D to sales Guo, Lev & Shi 2006, JBFA Compustat Annual\n",
    "72 realestate Real estate holdings Tuzel 2010, RFS Compustat Annual\n",
    "73 retvol Return volatility Ang, Hodrick, Xing & Zhang 2006, JF CRSP Monthly\n",
    "74 roaq Return on assets Balakrishnan, Bartov & Faurel 2010, JAE Compustat Quarterly\n",
    "75 roavol Earnings volatility Francis, LaFond, Olsson & Schipper 2004, TAR Compustat Quarterly\n",
    "76 roeq Return on equity Hou, Xue & Zhang 2015, RFS Compustat Quarterly\n",
    "77 roic Return on invested capital Brown & Rowe 2007, WP Compustat Annual\n",
    "78 rsup Revenue surprise Kama 2009, JBFA Compustat Quarterly\n",
    "79 salecash Sales to cash Ou & Penman 1989, JAE Compustat Annual\n",
    "80 saleinv Sales to inventory Ou & Penman 1989, JAE Compustat Annual\n",
    "81 salerec Sales to receivables Ou & Penman 1989, JAE Compustat Annual\n",
    "82 secured Secured debt Valta 2016, JFQA Compustat Annual\n",
    "83 securedind Secured debt indicator Valta 2016, JFQA Compustat Annual\n",
    "84 sgr Sales growth Lakonishok, Shleifer & Vishny 1994, JF Compustat Annual\n",
    "85 sin Sin stocks Hong & Kacperczyk 2009, JFE Compustat Annual\n",
    "86 sp Sales to price Barbee, Mukherji, & Raines 1996, FAJ Compustat Annual\n",
    "87 std_dolvol Volatility of liquidity (dollar trading volume) Chordia, Subrahmanyam & Anshuman 2001, JFE CRSP Monthly\n",
    "88 std_turn Volatility of liquidity (share turnover) Chordia, Subrahmanyam, &Anshuman 2001, JFE CRSP Monthly\n",
    "89 stdacc Accrual volatility Bandyopadhyay, Huang & Wirjanto 2010, WP Compustat Quarterly\n",
    "90 stdcf Cash ow volatility Huang 2009, JEF Compustat Quarterly\n",
    "91 tang Debt capacity/rm tangibility Almeida & Campello 2007, RFS Compustat Annual\n",
    "92 tb Tax income to book income Lev & Nissim 2004, TAR Compustat Annual\n",
    "93 turn Share turnover Datar, Naik & Radclie 1998, JFM CRSP Monthly\n",
    "94 zerotrade Zero trading days Liu 2006, JFE CRSP Monthly\"\"\"\n",
    "\n",
    "frequency = {}\n",
    "\n",
    "for line in table.split('\\n'):\n",
    "    if line.split()[1] not in ['realestate', 'orgcap', 'secured']:\n",
    "        frequency[line.split()[1]] = line.split()[-1]\n",
    "\n",
    "len(frequency)"
   ]
  },
  {
   "cell_type": "code",
   "execution_count": null,
   "metadata": {},
   "outputs": [],
   "source": [
    "df_fiiled_by_stock = df_fiiled.groupby('permno')"
   ]
  },
  {
   "cell_type": "code",
   "execution_count": null,
   "metadata": {},
   "outputs": [
    {
     "name": "stdout",
     "output_type": "stream",
     "text": [
      "78.88%"
     ]
    }
   ],
   "source": [
    "# shift by using 'apply' function\n",
    "n = 0\n",
    "shift_apply = df_fiiled_by_stock.apply(shift_stock)"
   ]
  },
  {
   "cell_type": "code",
   "execution_count": null,
   "metadata": {
    "scrolled": true
   },
   "outputs": [],
   "source": [
    "# shift by looping\n",
    "df_list = []\n",
    "n = 0\n",
    "c = 0\n",
    "for stock_code, stock_df in df_fiiled_by_stock:\n",
    "    df_list.append(shift_stock(stock_df.copy()))"
   ]
  },
  {
   "cell_type": "code",
   "execution_count": null,
   "metadata": {},
   "outputs": [],
   "source": [
    "# concatenate into a finalized dataframe\n",
    "shift = pd.concat(df_list)\n",
    "shift.head()"
   ]
  },
  {
   "cell_type": "code",
   "execution_count": null,
   "metadata": {},
   "outputs": [],
   "source": [
    "# index is now in the order of 'permno' code, so make a copy and sort index\n",
    "shift_copy = shift.copy()\n",
    "shift_copy_sorted = shift_copy.sort_index()\n",
    "shift_copy_sorted['stock_code'] = df['permno']"
   ]
  },
  {
   "cell_type": "code",
   "execution_count": null,
   "metadata": {},
   "outputs": [],
   "source": [
    "shift_copy_sorted.head()"
   ]
  },
  {
   "cell_type": "code",
   "execution_count": null,
   "metadata": {},
   "outputs": [],
   "source": [
    "# check if two methods yield the same result\n",
    "shift_copy_sorted.drop('stock_code', 1).equals(shift_apply)"
   ]
  },
  {
   "cell_type": "markdown",
   "metadata": {},
   "source": [
    "# Test if the shifted & filled dataframe is what we wanted"
   ]
  },
  {
   "cell_type": "code",
   "execution_count": null,
   "metadata": {},
   "outputs": [],
   "source": [
    "# 'baspread' is updated monthly\n",
    "# the data in row 32072 was shifted 1 month back to row 28319 as expected\n",
    "print(shift.loc[[28319, 32072]][['baspread', 'std_dolvol']])\n",
    "print()\n",
    "print(df.loc[[28319, 32072]][['baspread', 'std_dolvol']])"
   ]
  },
  {
   "cell_type": "code",
   "execution_count": null,
   "metadata": {},
   "outputs": [],
   "source": [
    "# test median fill nan\n",
    "# In the month of 1980/09/30, the median value of 'std_dolvol' is 0.79933817045\n",
    "# this number replaced the nan value as expected in row 32072\n",
    "df_91_by_date.get_group(19800930)['std_dolvol'].median()"
   ]
  },
  {
   "cell_type": "markdown",
   "metadata": {},
   "source": [
    "# Drop NaN rows"
   ]
  },
  {
   "cell_type": "code",
   "execution_count": null,
   "metadata": {},
   "outputs": [],
   "source": [
    "# after dropping nan rows, row count should be something like this\n",
    "df.shape[0] - 6 * 18700"
   ]
  },
  {
   "cell_type": "code",
   "execution_count": null,
   "metadata": {},
   "outputs": [],
   "source": [
    "# close, but not exactly the same\n",
    "shift_copy_sorted.dropna().shape[0]"
   ]
  },
  {
   "cell_type": "code",
   "execution_count": null,
   "metadata": {},
   "outputs": [],
   "source": [
    "shift_copy_sorted_grouped = shift_copy_sorted.groupby('stock_code')"
   ]
  },
  {
   "cell_type": "code",
   "execution_count": null,
   "metadata": {},
   "outputs": [],
   "source": [
    "# create a dict with keys being stock_code and values being number of rows containing NaN\n",
    "c = 0\n",
    "stock_nan = {}\n",
    "for stock, stock_df in shift_copy_sorted_grouped:\n",
    "    b = (\"{:.2%}\".format(c / 18700))\n",
    "    sys.stdout.write('\\r' + b)\n",
    "    sys.stdout.flush()\n",
    "    stock_nan[stock] = stock_df.shape[0] - stock_df.dropna().shape[0]\n",
    "    c += 1"
   ]
  },
  {
   "cell_type": "code",
   "execution_count": null,
   "metadata": {},
   "outputs": [],
   "source": [
    "for i in range(7):\n",
    "    print('{}: {}'.format(i, list(stock_nan.values()).count(i)))"
   ]
  },
  {
   "cell_type": "code",
   "execution_count": null,
   "metadata": {},
   "outputs": [],
   "source": [
    "import matplotlib.pyplot as plt\n",
    "plt.hist(stock_nan.values())\n",
    "plt.show"
   ]
  },
  {
   "cell_type": "code",
   "execution_count": null,
   "metadata": {},
   "outputs": [],
   "source": []
  },
  {
   "cell_type": "code",
   "execution_count": null,
   "metadata": {},
   "outputs": [],
   "source": []
  },
  {
   "cell_type": "code",
   "execution_count": null,
   "metadata": {},
   "outputs": [],
   "source": []
  },
  {
   "cell_type": "code",
   "execution_count": null,
   "metadata": {},
   "outputs": [],
   "source": []
  },
  {
   "cell_type": "code",
   "execution_count": null,
   "metadata": {},
   "outputs": [],
   "source": []
  },
  {
   "cell_type": "code",
   "execution_count": null,
   "metadata": {},
   "outputs": [],
   "source": []
  },
  {
   "cell_type": "code",
   "execution_count": null,
   "metadata": {},
   "outputs": [],
   "source": []
  }
 ],
 "metadata": {
  "kernelspec": {
   "display_name": "Python 3",
   "language": "python",
   "name": "python3"
  },
  "language_info": {
   "codemirror_mode": {
    "name": "ipython",
    "version": 3
   },
   "file_extension": ".py",
   "mimetype": "text/x-python",
   "name": "python",
   "nbconvert_exporter": "python",
   "pygments_lexer": "ipython3",
   "version": "3.7.1"
  }
 },
 "nbformat": 4,
 "nbformat_minor": 2
}
