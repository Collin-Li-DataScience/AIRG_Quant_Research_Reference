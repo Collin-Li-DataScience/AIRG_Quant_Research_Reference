{
 "cells": [
  {
   "cell_type": "code",
   "execution_count": 1,
   "metadata": {},
   "outputs": [],
   "source": [
    "%matplotlib inline"
   ]
  },
  {
   "cell_type": "code",
   "execution_count": 2,
   "metadata": {},
   "outputs": [],
   "source": [
    "import pandas as pd\n",
    "import numpy as np\n",
    "import matplotlib.pyplot as plt"
   ]
  },
  {
   "cell_type": "code",
   "execution_count": 99,
   "metadata": {},
   "outputs": [],
   "source": [
    "# 获取2016年底（t）沪深300的成分股\n",
    "data = '2016-12-31'\n",
    "stock_list = get_index_stocks('000300.XSHG', data)\n",
    "\n",
    "# 获取2016年底每支成分股的pe ratio\n",
    "pe_ratio = get_fundamentals(query(valuation.code, valuation.pe_ratio).filter(\n",
    "    valuation.code.in_(stock_list)), statDate = '2016q4').set_index('code')\n",
    "\n",
    "# An alternative\n",
    "# pe_ratio = get_fundamentals(query(valuation.code, valuation.pe_ratio), statDate = '2016q4')\n",
    "# pe_ratio.set_index('code', inplace = True)\n",
    "# pe_ratio = pe_ratio.filter(items = stock_list, axis = 0)\n",
    "\n",
    "# 获取2016年底每支成分股的ROE\n",
    "roe = get_fundamentals(query(indicator.code, indicator.roe).filter(\n",
    "    valuation.code.in_(stock_list)), statDate = '2016q4').set_index('code')\n",
    "\n",
    "# 获取每只成分股在2017Q1（t+1）的回报率\n",
    "prices =  get_price(stock_list, start_date='2017-01-01', end_date='2017-03-31' , fields= 'close')\n",
    "pct_return = (prices['close'].iloc[-1] / prices['close'].iloc[0] - 1) * 100\n",
    "pct_return.name = 'pct_return'"
   ]
  },
  {
   "cell_type": "code",
   "execution_count": 100,
   "metadata": {},
   "outputs": [
    {
     "name": "stdout",
     "output_type": "stream",
     "text": [
      "{'600005.XSHG'}\n",
      "600005.XSHG   NaN\n",
      "Name: pct_return, dtype: float64\n"
     ]
    }
   ],
   "source": [
    "# 检查是不是每只股票都有roe,pe和return数据\n",
    "s1 = set(roe.index); s2 = set(pe_ratio.index)\n",
    "print(s2.difference(s1))\n",
    "print(pct_return[pd.isnull(pct_return)])\n",
    "\n",
    "# 600005这支股票没有roe和return，所以直接把它从数据里面删掉好了\n",
    "pe_ratio = pe_ratio.drop('600005.XSHG', axis = 0)\n",
    "pct_return = pct_return.drop('600005.XSHG', axis = 0)"
   ]
  },
  {
   "cell_type": "code",
   "execution_count": 101,
   "metadata": {},
   "outputs": [],
   "source": [
    "# 中位数去极值（MAD）\n",
    "def filter_extreme_MAD(series, n):\n",
    "  median = series.median()\n",
    "  mad = series.mad()\n",
    "  max_range = median + n * mad\n",
    "  min_range = median - n * mad\n",
    "  return np.clip(series, min_range, max_range)\n",
    "\n",
    "# 标准化\n",
    "def standardize(series):\n",
    "  std = series.std()\n",
    "  mean = series.mean()\n",
    "  return (series - mean) / std"
   ]
  },
  {
   "cell_type": "code",
   "execution_count": 174,
   "metadata": {},
   "outputs": [
    {
     "data": {
      "text/html": [
       "<div>\n",
       "<style>\n",
       "    .dataframe thead tr:only-child th {\n",
       "        text-align: right;\n",
       "    }\n",
       "\n",
       "    .dataframe thead th {\n",
       "        text-align: left;\n",
       "    }\n",
       "\n",
       "    .dataframe tbody tr th {\n",
       "        vertical-align: top;\n",
       "    }\n",
       "</style>\n",
       "<table border=\"1\" class=\"dataframe\">\n",
       "  <thead>\n",
       "    <tr style=\"text-align: right;\">\n",
       "      <th></th>\n",
       "      <th>ep</th>\n",
       "      <th>roe</th>\n",
       "    </tr>\n",
       "  </thead>\n",
       "  <tbody>\n",
       "    <tr>\n",
       "      <th>300072.XSHE</th>\n",
       "      <td>-0.418670</td>\n",
       "      <td>1.441521</td>\n",
       "    </tr>\n",
       "    <tr>\n",
       "      <th>002466.XSHE</th>\n",
       "      <td>0.052358</td>\n",
       "      <td>1.550405</td>\n",
       "    </tr>\n",
       "    <tr>\n",
       "      <th>002415.XSHE</th>\n",
       "      <td>0.184875</td>\n",
       "      <td>1.888210</td>\n",
       "    </tr>\n",
       "    <tr>\n",
       "      <th>601888.XSHG</th>\n",
       "      <td>-0.039246</td>\n",
       "      <td>0.011005</td>\n",
       "    </tr>\n",
       "    <tr>\n",
       "      <th>002475.XSHE</th>\n",
       "      <td>-0.448942</td>\n",
       "      <td>0.581709</td>\n",
       "    </tr>\n",
       "  </tbody>\n",
       "</table>\n",
       "</div>"
      ],
      "text/plain": [
       "                   ep       roe\n",
       "300072.XSHE -0.418670  1.441521\n",
       "002466.XSHE  0.052358  1.550405\n",
       "002415.XSHE  0.184875  1.888210\n",
       "601888.XSHG -0.039246  0.011005\n",
       "002475.XSHE -0.448942  0.581709"
      ]
     },
     "execution_count": 174,
     "metadata": {},
     "output_type": "execute_result"
    }
   ],
   "source": [
    "# 转换pe to ep\n",
    "ep = 1 / pe_ratio\n",
    "\n",
    "# 处理数据\n",
    "ep_ready = standardize(filter_extreme_MAD(ep['pe_ratio'], 3))\n",
    "roe_ready = standardize(filter_extreme_MAD(roe['roe'], 2))\n",
    "\n",
    "# predictors dataframe\n",
    "df = pd.DataFrame({'ep' : ep_ready, 'roe' : roe_ready}, index = pct_return.index)\n",
    "df.head()"
   ]
  },
  {
   "cell_type": "code",
   "execution_count": 186,
   "metadata": {},
   "outputs": [
    {
     "data": {
      "text/plain": [
       "RandomForestClassifier(bootstrap=True, class_weight=None, criterion='gini',\n",
       "            max_depth=None, max_features='auto', max_leaf_nodes=None,\n",
       "            min_impurity_split=1e-07, min_samples_leaf=1,\n",
       "            min_samples_split=2, min_weight_fraction_leaf=0.0,\n",
       "            n_estimators=50, n_jobs=-1, oob_score=False, random_state=42,\n",
       "            verbose=0, warm_start=False)"
      ]
     },
     "execution_count": 186,
     "metadata": {},
     "output_type": "execute_result"
    }
   ],
   "source": [
    "from sklearn.tree import DecisionTreeClassifier\n",
    "from sklearn.ensemble import RandomForestClassifier\n",
    "from sklearn.tree import export_graphviz\n",
    "\n",
    "# “我们对股票 2017 年一季度的涨跌幅从高到低进行排序,选取前 1/3\n",
    "# 作为训练集的正例,后 1/3 作为反例,中间 1/3 的股票不纳入训练集。因此训练集包含\n",
    "# 200 个股票的两个因子(M=2)。”\n",
    "\n",
    "# 排序\n",
    "pct_return = pct_return.sort_values(ascending = False)\n",
    "\n",
    "# 准备训练集和标签\n",
    "lables_regression = pct_return.iloc[0:100].append(pct_return.iloc[199:299])\n",
    "\n",
    "lables_class = []\n",
    "for i in range(200):\n",
    "    if i <= 100:\n",
    "        lables_class.append(0)\n",
    "    else:\n",
    "        lables_class.append(1)\n",
    "        \n",
    "predictors = df.loc[lables.index]\n",
    "\n",
    "# 普通决策树\n",
    "tree_clf = DecisionTreeClassifier(max_depth=None, random_state=42)\n",
    "tree_clf.fit(np.array(predictors), np.array(lables_class))\n",
    "\n",
    "# 随机森林\n",
    "rnd_clf = RandomForestClassifier(n_estimators=50, n_jobs=-1, random_state=42)\n",
    "rnd_clf.fit(np.array(predictors), np.array(lables_class))"
   ]
  },
  {
   "cell_type": "code",
   "execution_count": 187,
   "metadata": {},
   "outputs": [
    {
     "data": {
      "image/png": "[encoded data removed]",
      "text/plain": [
       "<Figure size 792x288 with 2 Axes>"
      ]
     },
     "metadata": {
      "needs_background": "light"
     },
     "output_type": "display_data"
    }
   ],
   "source": [
    "from matplotlib.colors import ListedColormap\n",
    "\n",
    "def plot_decision_boundary(clf, X, y, axes=[-4, 4, -3, 3], alpha=0.5, contour=True):\n",
    "    x1s = np.linspace(axes[0], axes[1], 100)\n",
    "    x2s = np.linspace(axes[2], axes[3], 100)\n",
    "    x1, x2 = np.meshgrid(x1s, x2s)\n",
    "    X_new = np.c_[x1.ravel(), x2.ravel()]\n",
    "    y_pred = clf.predict(X_new).reshape(x1.shape)\n",
    "    custom_cmap = ListedColormap(['#fafab0','#9898ff','#a0faa0'])\n",
    "    plt.contourf(x1, x2, y_pred, alpha=0.3, cmap=custom_cmap)\n",
    "    if contour:\n",
    "        custom_cmap2 = ListedColormap(['#7d7d58','#4c4c7f','#507d50'])\n",
    "        plt.contour(x1, x2, y_pred, cmap=custom_cmap2, alpha=0.8)\n",
    "    plt.plot(X[:, 0][y==0], X[:, 1][y==0], \"yo\", alpha=alpha)\n",
    "    plt.plot(X[:, 0][y==1], X[:, 1][y==1], \"bs\", alpha=alpha)\n",
    "    plt.axis(axes)\n",
    "    plt.xlabel(r\"$x_1$\", fontsize=18)\n",
    "    plt.ylabel(r\"$x_2$\", fontsize=18, rotation=0)\n",
    "    \n",
    "plt.figure(figsize=(11,4))\n",
    "plt.subplot(121)\n",
    "plot_decision_boundary(tree_clf, np.array(predictors), np.array(lables_class))\n",
    "plt.title(\"Decision Tree\", fontsize=14)\n",
    "plt.subplot(122)\n",
    "plot_decision_boundary(rnd_clf, np.array(predictors), np.array(lables_class))\n",
    "plt.title(\"Random Forest\", fontsize=14)\n",
    "plt.show()"
   ]
  }
 ],
 "metadata": {
  "kernelspec": {
   "display_name": "Python 3",
   "language": "python",
   "name": "python3"
  },
  "language_info": {
   "codemirror_mode": {
    "name": "ipython",
    "version": 3
   },
   "file_extension": ".py",
   "mimetype": "text/x-python",
   "name": "python",
   "nbconvert_exporter": "python",
   "pygments_lexer": "ipython3",
   "version": "3.7.1"
  }
 },
 "nbformat": 4,
 "nbformat_minor": 2
}
