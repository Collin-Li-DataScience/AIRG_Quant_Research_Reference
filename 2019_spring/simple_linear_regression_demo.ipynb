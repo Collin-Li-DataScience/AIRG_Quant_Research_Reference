{
 "cells": [
  {
   "cell_type": "code",
   "execution_count": 1,
   "metadata": {},
   "outputs": [],
   "source": [
    "%matplotlib inline"
   ]
  },
  {
   "cell_type": "code",
   "execution_count": 2,
   "metadata": {},
   "outputs": [],
   "source": [
    "import pandas as pd\n",
    "import numpy as np\n",
    "import statsmodels.api as sm\n",
    "import matplotlib.pyplot as plt"
   ]
  },
  {
   "cell_type": "code",
   "execution_count": 3,
   "metadata": {},
   "outputs": [],
   "source": [
    "# 获取2016年底沪深300成分股\n",
    "时间 = '2016-12-31'\n",
    "成分股 = get_index_stocks('000300.XSHG', 时间)"
   ]
  },
  {
   "cell_type": "code",
   "execution_count": 4,
   "metadata": {},
   "outputs": [],
   "source": [
    "# 获取2016年底市盈率数据\n",
    "数据 = get_fundamentals(query(valuation.code, valuation.pe_ratio).filter(\n",
    "    valuation.code.in_(成分股)), statDate = '2016q4')\n",
    "\n",
    "市盈率 = 数据['pe_ratio']"
   ]
  },
  {
   "cell_type": "code",
   "execution_count": 5,
   "metadata": {},
   "outputs": [],
   "source": [
    "# 转换PE to EP\n",
    "EP = 1/市盈率\n",
    "\n",
    "# 中位数去极值（MAD）\n",
    "def filter_extreme_MAD(series,n):\n",
    "  median = series.median()\n",
    "  mad = series.mad()\n",
    "  max_range = median + n * mad\n",
    "  min_range = median - n * mad\n",
    "  return np.clip(series, min_range, max_range)"
   ]
  },
  {
   "cell_type": "code",
   "execution_count": 6,
   "metadata": {
    "scrolled": true
   },
   "outputs": [],
   "source": [
    "# 标准化\n",
    "def standardize(series):\n",
    "  std = series.std()\n",
    "  mean = series.mean()\n",
    "  return (series - mean) / std"
   ]
  },
  {
   "cell_type": "code",
   "execution_count": 7,
   "metadata": {},
   "outputs": [
    {
     "name": "stderr",
     "output_type": "stream",
     "text": [
      "/opt/conda/lib/python3.6/site-packages/jqresearch/api.py:87: FutureWarning: \n",
      "Panel is deprecated and will be removed in a future version.\n",
      "The recommended way to represent these types of 3-dimensional data are with a MultiIndex on a DataFrame, via the Panel.to_frame() method\n",
      "Alternatively, you can use the xarray package http://xarray.pydata.org/en/stable/.\n",
      "Pandas provides a `.to_xarray()` method to help automate this conversion.\n",
      "\n",
      "  pre_factor_ref_date=_get_today())\n"
     ]
    }
   ],
   "source": [
    "# 股票回报\n",
    "initial_prices =  get_price(成分股, start_date='2017-01-01', end_date='2017-03-31' , fields= 'close')\n",
    "pct_return = (initial_prices['close'].iloc[-1]/initial_prices['close'].iloc[0] - 1) * 100\n",
    "\n",
    "# 使用均值填充缺失值\n",
    "pct_return.fillna(pct_return.mean(), inplace = True)"
   ]
  },
  {
   "cell_type": "code",
   "execution_count": 8,
   "metadata": {},
   "outputs": [
    {
     "data": {
      "text/plain": [
       "Text(0, 0.5, 'Return')"
      ]
     },
     "execution_count": 8,
     "metadata": {},
     "output_type": "execute_result"
    },
    {
     "data": {
      "image/png": "[encoded data removed]",
      "text/plain": [
       "<Figure size 432x288 with 1 Axes>"
      ]
     },
     "metadata": {
      "needs_background": "light"
     },
     "output_type": "display_data"
    }
   ],
   "source": [
    "# 回归\n",
    "y = pct_return.tolist()\n",
    "x = standardize(filter_extreme_MAD(EP, 3)).tolist()\n",
    "\n",
    "model = sm.OLS(y, x)\n",
    "results = model.fit()\n",
    "y_fit = results.predict()\n",
    "\n",
    "plt.figure()\n",
    "plt.scatter(x, y, c = 'r', marker = '.', label = '真实')\n",
    "plt.plot(x, y_fit, 'b-',label = '回归')\n",
    "plt.legend(loc = 'best')\n",
    "plt.title('回归展示')\n",
    "plt.xlabel('EP')\n",
    "plt.ylabel('Return')"
   ]
  },
  {
   "cell_type": "code",
   "execution_count": null,
   "metadata": {},
   "outputs": [],
   "source": []
  }
 ],
 "metadata": {
  "kernelspec": {
   "display_name": "Python 3",
   "language": "python",
   "name": "python3"
  },
  "language_info": {
   "codemirror_mode": {
    "name": "ipython",
    "version": 3
   },
   "file_extension": ".py",
   "mimetype": "text/x-python",
   "name": "python",
   "nbconvert_exporter": "python",
   "pygments_lexer": "ipython3",
   "version": "3.6.7"
  }
 },
 "nbformat": 4,
 "nbformat_minor": 2
}
